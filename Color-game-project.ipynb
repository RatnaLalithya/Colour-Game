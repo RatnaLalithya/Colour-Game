{
 "cells": [
  {
   "cell_type": "code",
   "execution_count": 1,
   "metadata": {},
   "outputs": [],
   "source": [
    "import tkinter \n",
    "import random \n",
    "import time\n",
    "import tkinter.font as font \n",
    "  \n",
    "# list of possible colour. \n",
    "colors = ['Red','Blue','Green','Pink','Black','Cyan', 'Aqua', \n",
    "           'Yellow','Orange','White','Purple','Brown'] \n",
    "timer = 60\n",
    "score = 0\n",
    "displayed_word_color = ''\n",
    "\n",
    "#This fuction will be called when start button is clicked\n",
    "def startGame():\n",
    "    global displayed_word_color\n",
    "    if(timer == 60):\n",
    "        startCountDown()\n",
    "        displayed_word_color = random.choice(colors).lower()\n",
    "        display_words.config(text=random.choice(colors), fg=displayed_word_color)\n",
    "        color_entry.bind('<Return>', displayNextWord)\n",
    "\n",
    "\n",
    "def resetGame():\n",
    "    global timer, score, displayed_word_color\n",
    "    timer = 60\n",
    "    score = 0\n",
    "    displayed_word_color = ''\n",
    "    game_score.config(text = \"Your Score : \" + str(score))\n",
    "    display_words.config(text = '')\n",
    "    time_left.config(text=\"Game Ends in : -\")\n",
    "    color_entry.delete(0, END)\n"
   ]
  },
  {
   "cell_type": "code",
   "execution_count": 2,
   "metadata": {},
   "outputs": [],
   "source": [
    "def startCountDown():\n",
    "    global timer\n",
    "    if(timer >= 0):\n",
    "        time_left.config(text = \"Game Ends in : \" + str(timer) + \"s\")\n",
    "        timer -= 1\n",
    "        time_left.after(1000,startCountDown)\n",
    "        if (timer == -1):\n",
    "            time_left.config(text=\"Game Over!!!\")\n"
   ]
  },
  {
   "cell_type": "code",
   "execution_count": 3,
   "metadata": {},
   "outputs": [],
   "source": [
    "def displayNextWord(event):\n",
    "    global displayed_word_color\n",
    "    global score\n",
    "    if(timer > 0):\n",
    "        if(displayed_word_color == color_entry.get().lower()):\n",
    "            score += 1\n",
    "            game_score.config(text = \"Your Score : \" + str(score))\n",
    "        color_entry.delete(0, END)\n",
    "        displayed_word_color = random.choice(colors).lower()\n",
    "        display_words.config(text = random.choice(colors), fg = displayed_word_color)"
   ]
  },
  {
   "cell_type": "code",
   "execution_count": 4,
   "metadata": {},
   "outputs": [],
   "source": [
    "from tkinter import *\n",
    "my_window = Tk()\n",
    "\n",
    "my_window.title(\"Color Game\")\n",
    "\n",
    "my_window.geometry(\"500x200\")\n",
    "\n",
    "app_font = font.Font(family='Helvetica', size = 12)\n",
    "\n",
    "game_desp = \"Hint: Enter the color of the words displayed below.\"\n",
    "\n",
    "myFont = font.Font(family='Helvetica')\n",
    "\n",
    "game_description = Label(my_window, text = game_desp, font = app_font, fg= \"grey\")\n",
    "game_description.pack()\n",
    "\n",
    "game_score = Label(my_window, text = \"Your Score : \" + str(score), font = (font.Font(size=16)), fg = \"green\")\n",
    "game_score.pack()\n",
    "\n",
    "display_words = Label(my_window , font = (font.Font(size=28)), pady = 10)\n",
    "display_words.pack()\n",
    "\n",
    "time_left = Label(my_window, text = \"Game Ends in : -\", font = (font.Font(size=14)), fg = \"orange\")\n",
    "time_left.pack()\n",
    "\n",
    "color_entry = Entry(my_window, width = 30)\n",
    "color_entry.pack(pady = 30)\n",
    "\n",
    "btn_frame = Frame(my_window, width= 80, height = 40, bg= 'red')\n",
    "btn_frame.pack(side = BOTTOM)\n",
    "\n",
    "start_button = Button(btn_frame, text = \"Start\", width = 20, fg = \"black\", bg = \"pink\", bd = 0,padx = 20, pady = 10 , command = startGame)\n",
    "start_button.grid(row=0, column= 0)\n",
    "\n",
    "reset_button = Button(btn_frame, text = \"Reset\", width = 20, fg = \"black\", bg = \"light blue\", bd = 0,padx = 20, pady = 10 , command = resetGame)\n",
    "reset_button.grid(row=0, column= 1)\n",
    "\n",
    "my_window.geometry('600x300')\n",
    "my_window.mainloop()"
   ]
  },
  {
   "cell_type": "code",
   "execution_count": null,
   "metadata": {},
   "outputs": [],
   "source": []
  }
 ],
 "metadata": {
  "kernelspec": {
   "display_name": "Python 3",
   "language": "python",
   "name": "python3"
  },
  "language_info": {
   "codemirror_mode": {
    "name": "ipython",
    "version": 3
   },
   "file_extension": ".py",
   "mimetype": "text/x-python",
   "name": "python",
   "nbconvert_exporter": "python",
   "pygments_lexer": "ipython3",
   "version": "3.7.6"
  }
 },
 "nbformat": 4,
 "nbformat_minor": 4
}
